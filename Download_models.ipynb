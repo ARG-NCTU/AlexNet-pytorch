{
 "cells": [
  {
   "cell_type": "code",
   "execution_count": null,
   "metadata": {},
   "outputs": [],
   "source": [
    "import os\n",
    "import sys\n",
    "import logging\n",
    "import gdown\n",
    "from zipfile import ZipFile"
   ]
  },
  {
   "cell_type": "code",
   "execution_count": null,
   "metadata": {},
   "outputs": [],
   "source": [
    "models_url = 'https://drive.google.com/uc?id=1yCzCbsC44E9mvoSPIJ5ymlU1JjBpzB8y'\n",
    "models_name = 'models'\n",
    "if not os.path.isdir(models_name):\n",
    "    gdown.download(models_url, output=models_name + '.zip', quiet=False)\n",
    "    zip1 = ZipFile(models_name + '.zip')\n",
    "    zip1.extractall(models_name)\n",
    "    zip1.close()\n",
    "\n",
    "print(\"Finished downloading models.\") "
   ]
  },
  {
   "cell_type": "code",
   "execution_count": null,
   "metadata": {},
   "outputs": [],
   "source": []
  }
 ],
 "metadata": {
  "kernelspec": {
   "display_name": "Python 3",
   "language": "python",
   "name": "python3"
  },
  "language_info": {
   "codemirror_mode": {
    "name": "ipython",
    "version": 3
   },
   "file_extension": ".py",
   "mimetype": "text/x-python",
   "name": "python",
   "nbconvert_exporter": "python",
   "pygments_lexer": "ipython3",
   "version": "3.6.9"
  }
 },
 "nbformat": 4,
 "nbformat_minor": 2
}
